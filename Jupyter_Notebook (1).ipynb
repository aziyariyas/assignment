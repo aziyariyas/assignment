{
 "cells": [
  {
   "cell_type": "markdown",
   "metadata": {},
   "source": [
    "<center>\n",
    "    <img src=\"https://s3-api.us-geo.objectstorage.softlayer.net/cf-courses-data/CognitiveClass/Logos/organization_logo/organization_logo.png\" width=\"300\" alt=\"cognitiveclass.ai logo\"  />\n",
    "</center>\n"
   ]
  },
  {
   "cell_type": "markdown",
   "metadata": {},
   "source": [
    "<h1> My Jupyter Notebook on IBM Watson Studio </h1>"
   ]
  },
  {
   "cell_type": "markdown",
   "metadata": {},
   "source": [
    "<b> AZIYA NISSAM ,\n",
    "    ASSISTANT SYSTEM ENGINEER, TCS </b>"
   ]
  },
  {
   "cell_type": "markdown",
   "metadata": {},
   "source": [
    "<html> <body> <i> I am interested  because I like to solve problems. Data Science is just an interesting means to that end</i> <body><html>"
   ]
  },
  {
   "cell_type": "markdown",
   "metadata": {},
   "source": [
    "<h3> Going to use len function in Python in a list </h3>"
   ]
  },
  {
   "cell_type": "code",
   "execution_count": 2,
   "metadata": {},
   "outputs": [
    {
     "name": "stdout",
     "output_type": "stream",
     "text": [
      "3\n"
     ]
    }
   ],
   "source": [
    "new = ['n','e','w']\n",
    "print(len(new))"
   ]
  },
  {
   "cell_type": "markdown",
   "metadata": {},
   "source": [
    "<p> Tools for data science course helped me lot as I am a beginner</p> <hr> <p> This provided me an overview of data science languages like <ul> <li> Python </li> <li> R </li> <li> SQL </li> </ul> </p> <hr> <p> Also I am introduced with Open source and Commercial Data Science tools like <ol> <li> Jupyter Notebook </li> <li> RStudio </li> <li> GitHub </li> <li> Watson Studio </li> </ol> </p> <hr> The different Data Science task and their tools are discussed below <table> <tr> <th> DM </th> <th> ETL </th> <th> DV </th></tr> <tr><td>MySQL </td><td> Apache Spark SQL</td><td> Kibana</td> </tr><tr><td>Hadoop</td><td> KubeFlow</td><td>Apache Superset </td></tr></table>"
   ]
  },
  {
   "cell_type": "code",
   "execution_count": null,
   "metadata": {},
   "outputs": [],
   "source": []
  }
 ],
 "metadata": {
  "kernelspec": {
   "display_name": "Python",
   "language": "python",
   "name": "conda-env-python-py"
  },
  "language_info": {
   "codemirror_mode": {
    "name": "ipython",
    "version": 3
   },
   "file_extension": ".py",
   "mimetype": "text/x-python",
   "name": "python",
   "nbconvert_exporter": "python",
   "pygments_lexer": "ipython3",
   "version": "3.7.12"
  }
 },
 "nbformat": 4,
 "nbformat_minor": 4
}
